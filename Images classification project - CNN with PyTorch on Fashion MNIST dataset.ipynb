{
 "cells": [
  {
   "cell_type": "markdown",
   "id": "e294b1b1-826e-4045-ae36-dbcd53f44e54",
   "metadata": {},
   "source": [
    "# Images classification project - CNN with PyTorch on Fashion MNIST dataset"
   ]
  },
  {
   "cell_type": "markdown",
   "id": "cc144eaf-f51f-4f37-b3fb-626f19cfcb4f",
   "metadata": {},
   "source": [
    "Using PyTorch, this project builds a Convolutional Neural Network (CNN) to categorize photos from the Fashion MNIST dataset.\n",
    "To improve performance and avoid overfitting, the model is trained using sophisticated approaches such as data augmentation, early halting, and model checkpointing.\n",
    "TensorBoard is used to log the entire process for visual analysis."
   ]
  },
  {
   "cell_type": "markdown",
   "id": "6c374f06-c59d-4b9a-9a1c-0eb4b251fc9d",
   "metadata": {},
   "source": [
    "## Load libraries"
   ]
  },
  {
   "cell_type": "code",
   "execution_count": 1,
   "id": "4768ec01-974b-47c5-8330-de447cb670de",
   "metadata": {},
   "outputs": [
    {
     "name": "stderr",
     "output_type": "stream",
     "text": [
      "2024-06-13 12:06:37.537118: I tensorflow/core/util/port.cc:113] oneDNN custom operations are on. You may see slightly different numerical results due to floating-point round-off errors from different computation orders. To turn them off, set the environment variable `TF_ENABLE_ONEDNN_OPTS=0`.\n",
      "2024-06-13 12:06:37.564694: I tensorflow/core/platform/cpu_feature_guard.cc:210] This TensorFlow binary is optimized to use available CPU instructions in performance-critical operations.\n",
      "To enable the following instructions: AVX2 AVX_VNNI FMA, in other operations, rebuild TensorFlow with the appropriate compiler flags.\n"
     ]
    }
   ],
   "source": [
    "import numpy as np\n",
    "import torch\n",
    "import torch.nn as nn\n",
    "import torch.optim as optim\n",
    "from torch.utils.data import DataLoader\n",
    "from torchvision import datasets, transforms\n",
    "from torch.utils.tensorboard import SummaryWriter\n",
    "from sklearn.metrics import accuracy_score, precision_score, recall_score, confusion_matrix, classification_report\n",
    "from torch.optim.lr_scheduler import StepLR\n",
    "import copy\n",
    "import matplotlib.pyplot as plt\n",
    "import torchvision.utils"
   ]
  },
  {
   "cell_type": "markdown",
   "id": "4eca5f7e-b309-40ce-829c-40a86d516d1f",
   "metadata": {},
   "source": [
    "## Check if model run on GPU"
   ]
  },
  {
   "cell_type": "code",
   "execution_count": 2,
   "id": "c63c6499-85b6-42bb-979c-08703be0ff59",
   "metadata": {},
   "outputs": [
    {
     "name": "stdout",
     "output_type": "stream",
     "text": [
      "Using device: cuda\n"
     ]
    }
   ],
   "source": [
    "device = torch.device('cuda' if torch.cuda.is_available() else 'cpu')\n",
    "print(f'Using device: {device}')"
   ]
  },
  {
   "cell_type": "markdown",
   "id": "d5af1c06-923e-4a49-ba05-0d078b7c615f",
   "metadata": {},
   "source": [
    "## Load and prepare the data"
   ]
  },
  {
   "cell_type": "code",
   "execution_count": 3,
   "id": "7e944681-1b27-4b72-be36-9d8ca219c861",
   "metadata": {},
   "outputs": [],
   "source": [
    "# Define transformations\n",
    "train_transforms = transforms.Compose([\n",
    "    transforms.RandomHorizontalFlip(),\n",
    "    transforms.RandomRotation(45),\n",
    "    transforms.RandomAutocontrast(),\n",
    "    transforms.Resize((128, 128)),\n",
    "    transforms.ToTensor()\n",
    "])\n",
    "\n",
    "test_transforms = transforms.Compose([\n",
    "    transforms.Resize((128, 128)),\n",
    "    transforms.ToTensor()\n",
    "])"
   ]
  },
  {
   "cell_type": "code",
   "execution_count": 4,
   "id": "548d49e6-fc22-4f10-bc86-ed27a0bb7dcb",
   "metadata": {},
   "outputs": [],
   "source": [
    "# Load datasets\n",
    "train_data = datasets.FashionMNIST(root='./data', train=True, download=True, transform=train_transforms)\n",
    "test_data = datasets.FashionMNIST(root='./data', train=False, download=True, transform=test_transforms)"
   ]
  },
  {
   "cell_type": "code",
   "execution_count": 5,
   "id": "13cc1cc0-5a9f-4a27-a2c9-245493f0e406",
   "metadata": {},
   "outputs": [
    {
     "name": "stdout",
     "output_type": "stream",
     "text": [
      "10\n"
     ]
    }
   ],
   "source": [
    "# Get the number of classes\n",
    "num_classes = len(train_data.classes)\n",
    "print(num_classes)"
   ]
  },
  {
   "cell_type": "markdown",
   "id": "f92f1c01-0dc0-4423-b352-2363ef6bf3b2",
   "metadata": {},
   "source": [
    "## Defining and training the model"
   ]
  },
  {
   "cell_type": "code",
   "execution_count": 6,
   "id": "b29f5125-573f-4c52-ab2a-7649c12a3ccb",
   "metadata": {},
   "outputs": [],
   "source": [
    "# Define the CNN\n",
    "class MultiClassImageClassifier(nn.Module):\n",
    "    def __init__(self, num_classes):\n",
    "        super(MultiClassImageClassifier, self).__init__()\n",
    "        self.conv1 = nn.Conv2d(1, 32, kernel_size=3, stride=1, padding=1)\n",
    "        self.bn1 = nn.BatchNorm2d(32)\n",
    "        self.conv2 = nn.Conv2d(32, 64, kernel_size=3, stride=1, padding=1)\n",
    "        self.bn2 = nn.BatchNorm2d(64)\n",
    "        self.conv3 = nn.Conv2d(64, 128, kernel_size=3, stride=1, padding=1)\n",
    "        self.bn3 = nn.BatchNorm2d(128)\n",
    "        self.relu = nn.ReLU()\n",
    "        self.maxpool = nn.MaxPool2d(kernel_size=2, stride=2)\n",
    "        self.dropout = nn.Dropout(0.5)\n",
    "        self.flatten = nn.Flatten()\n",
    "        self.fc1 = nn.Linear(128 * 16 * 16, 256)\n",
    "        self.fc2 = nn.Linear(256, num_classes)\n",
    "        \n",
    "    def forward(self, x):\n",
    "        x = self.conv1(x)\n",
    "        x = self.bn1(x)\n",
    "        x = self.relu(x)\n",
    "        x = self.maxpool(x)\n",
    "        \n",
    "        x = self.conv2(x)\n",
    "        x = self.bn2(x)\n",
    "        x = self.relu(x)\n",
    "        x = self.maxpool(x)\n",
    "        \n",
    "        x = self.conv3(x)\n",
    "        x = self.bn3(x)\n",
    "        x = self.relu(x)\n",
    "        x = self.maxpool(x)\n",
    "        \n",
    "        x = self.flatten(x)\n",
    "        x = self.dropout(x)\n",
    "        x = self.fc1(x)\n",
    "        x = self.relu(x)\n",
    "        x = self.fc2(x)\n",
    "        \n",
    "        return x"
   ]
  },
  {
   "cell_type": "code",
   "execution_count": 7,
   "id": "3d69d78e-3409-457c-9fd3-89aad42165bf",
   "metadata": {},
   "outputs": [],
   "source": [
    "# DataLoaders\n",
    "batch_size = 10\n",
    "dataloader_train = DataLoader(train_data, batch_size=batch_size, shuffle=True)\n",
    "dataloader_test = DataLoader(test_data, batch_size=batch_size, shuffle=False)"
   ]
  },
  {
   "cell_type": "code",
   "execution_count": 8,
   "id": "a360662f-4c30-4fff-92c6-12a59ccee5d6",
   "metadata": {},
   "outputs": [],
   "source": [
    "# Initialize TensorBoard writer\n",
    "writer = SummaryWriter()"
   ]
  },
  {
   "cell_type": "code",
   "execution_count": 9,
   "id": "1a2d8a5e-3930-4f14-999d-8fac02fe205a",
   "metadata": {},
   "outputs": [
    {
     "data": {
      "image/png": "[encoded data removed]",
      "text/plain": [
       "<Figure size 1000x1000 with 5 Axes>"
      ]
     },
     "metadata": {},
     "output_type": "display_data"
    }
   ],
   "source": [
    "# Display some sample images\n",
    "def display_sample_images(dataset, num_images=5):\n",
    "    figure = plt.figure(figsize=(10, 10))\n",
    "    for index in range(1, num_images + 1):\n",
    "        img, label = dataset[index]\n",
    "        plt.subplot(1, num_images, index)\n",
    "        plt.axis('off')\n",
    "        plt.imshow(img.squeeze(), cmap='gray')\n",
    "        plt.title(f'Label: {label}')\n",
    "    plt.show()\n",
    "# Display sample images from training data\n",
    "display_sample_images(train_data)"
   ]
  },
  {
   "cell_type": "code",
   "execution_count": 10,
   "id": "f927fe9f-259d-4bd5-b3d4-c7e902d39165",
   "metadata": {},
   "outputs": [],
   "source": [
    "# Log sample images to TensorBoard\n",
    "def log_sample_images(writer, dataloader, num_images=5):\n",
    "    data_iter = iter(dataloader)\n",
    "    images, labels = next(data_iter)\n",
    "    img_grid = torchvision.utils.make_grid(images[:num_images])\n",
    "    writer.add_image('Sample Images', img_grid)\n",
    "\n",
    "# Log sample images from training data\n",
    "log_sample_images(writer, dataloader_train)"
   ]
  },
  {
   "cell_type": "code",
   "execution_count": 11,
   "id": "4eb52d90-7c2d-4768-a6fc-a92c1bb3a8b1",
   "metadata": {},
   "outputs": [],
   "source": [
    "# Define training function with early stopping and model saving\n",
    "def train_model_with_early_stopping_and_save(optimizer, scheduler, net, dataloader_train, dataloader_val, num_epochs, patience, save_path):\n",
    "    criterion = nn.CrossEntropyLoss()\n",
    "    \n",
    "    best_loss = float('inf')\n",
    "    best_model_weights = copy.deepcopy(net.state_dict())\n",
    "    current_patience = patience\n",
    "    \n",
    "    for epoch in range(num_epochs):\n",
    "        net.train()\n",
    "        running_loss = 0\n",
    "        num_processed = 0\n",
    "        \n",
    "        for features, labels in dataloader_train:\n",
    "            features, labels = features.to(device), labels.to(device)  # Move to GPU\n",
    "            optimizer.zero_grad()\n",
    "            outputs = net(features)\n",
    "            loss = criterion(outputs, labels)\n",
    "            loss.backward()\n",
    "            optimizer.step()\n",
    "            running_loss += loss.item() * features.size(0)\n",
    "            num_processed += features.size(0)\n",
    "    \n",
    "        scheduler.step()\n",
    "    \n",
    "        epoch_loss = running_loss / num_processed\n",
    "        print(f'Epoch [{epoch}/{num_epochs}], Loss: {epoch_loss:.4f}')\n",
    "    \n",
    "        # Log the training loss to TensorBoard\n",
    "        writer.add_scalar('training loss', epoch_loss, epoch)\n",
    "        \n",
    "        # Early stopping check using validation set\n",
    "        net.eval()\n",
    "        val_running_loss = 0\n",
    "        val_num_processed = 0\n",
    "        \n",
    "        with torch.no_grad():\n",
    "            for val_features, val_labels in dataloader_val:\n",
    "                val_features, val_labels = val_features.to(device), val_labels.to(device)  # Move to GPU\n",
    "                val_outputs = net(val_features)\n",
    "                val_loss = criterion(val_outputs, val_labels)\n",
    "                val_running_loss += val_loss.item() * val_features.size(0)\n",
    "                val_num_processed += val_features.size(0)\n",
    "        \n",
    "        val_epoch_loss = val_running_loss / val_num_processed\n",
    "        print(f'Validation Loss: {val_epoch_loss:.4f}')\n",
    "        \n",
    "        if val_epoch_loss < best_loss:\n",
    "            best_loss = val_epoch_loss\n",
    "            best_model_weights = copy.deepcopy(net.state_dict())\n",
    "            current_patience = patience\n",
    "            # Save the best model\n",
    "            torch.save({\n",
    "                'epoch': epoch,\n",
    "                'model_state_dict': net.state_dict(),\n",
    "                'optimizer_state_dict': optimizer.state_dict(),\n",
    "                'scheduler_state_dict': scheduler.state_dict(),\n",
    "                'best_loss': best_loss\n",
    "            }, save_path)\n",
    "        else:\n",
    "            current_patience -= 1\n",
    "            if current_patience == 0:\n",
    "                print('Early stopping triggered. No improvement in validation loss.')\n",
    "                break  # Ensure this break is aligned with the if statement\n",
    "    \n",
    "    # Load the best model weights\n",
    "    net.load_state_dict(best_model_weights)\n",
    "    \n",
    "    return net"
   ]
  },
  {
   "cell_type": "code",
   "execution_count": 12,
   "id": "63cfb4a3-573b-4903-9043-17dc15fec0dc",
   "metadata": {},
   "outputs": [],
   "source": [
    "# Train the model\n",
    "net = MultiClassImageClassifier(num_classes).to(device)\n",
    "optimizer = optim.Adam(net.parameters(), lr=0.001)\n",
    "scheduler = optim.lr_scheduler.StepLR(optimizer, step_size=7, gamma=0.1)"
   ]
  },
  {
   "cell_type": "code",
   "execution_count": 13,
   "id": "81b8d84d-11cd-4b1b-8b4f-3e1b5d10d033",
   "metadata": {},
   "outputs": [],
   "source": [
    "# Define early stopping parameters and save path\n",
    "patience = 5  # Number of epochs with no improvement after which training will be stopped\n",
    "save_path = 'fashion_mnist_model.pth'"
   ]
  },
  {
   "cell_type": "code",
   "execution_count": 14,
   "id": "903e94e7-ab9e-4bb7-a359-2d60632a050a",
   "metadata": {},
   "outputs": [
    {
     "name": "stdout",
     "output_type": "stream",
     "text": [
      "Epoch [0/20], Loss: 0.7054\n",
      "Validation Loss: 0.5247\n",
      "Epoch [1/20], Loss: 0.5075\n",
      "Validation Loss: 0.4514\n",
      "Epoch [2/20], Loss: 0.4444\n",
      "Validation Loss: 0.4148\n",
      "Epoch [3/20], Loss: 0.4129\n",
      "Validation Loss: 0.3888\n",
      "Epoch [4/20], Loss: 0.3943\n",
      "Validation Loss: 0.4075\n",
      "Epoch [5/20], Loss: 0.3758\n",
      "Validation Loss: 0.3502\n",
      "Epoch [6/20], Loss: 0.3634\n",
      "Validation Loss: 0.3387\n",
      "Epoch [7/20], Loss: 0.3226\n",
      "Validation Loss: 0.3010\n",
      "Epoch [8/20], Loss: 0.3115\n",
      "Validation Loss: 0.2990\n",
      "Epoch [9/20], Loss: 0.3022\n",
      "Validation Loss: 0.2961\n",
      "Epoch [10/20], Loss: 0.3027\n",
      "Validation Loss: 0.2906\n",
      "Epoch [11/20], Loss: 0.2986\n",
      "Validation Loss: 0.2920\n",
      "Epoch [12/20], Loss: 0.2948\n",
      "Validation Loss: 0.2909\n",
      "Epoch [13/20], Loss: 0.2925\n",
      "Validation Loss: 0.2859\n",
      "Epoch [14/20], Loss: 0.2881\n",
      "Validation Loss: 0.2845\n",
      "Epoch [15/20], Loss: 0.2854\n",
      "Validation Loss: 0.2827\n",
      "Epoch [16/20], Loss: 0.2850\n",
      "Validation Loss: 0.2833\n",
      "Epoch [17/20], Loss: 0.2865\n",
      "Validation Loss: 0.2824\n",
      "Epoch [18/20], Loss: 0.2849\n",
      "Validation Loss: 0.2829\n",
      "Epoch [19/20], Loss: 0.2844\n",
      "Validation Loss: 0.2835\n"
     ]
    }
   ],
   "source": [
    "# Train the model with early stopping and save the best model\n",
    "net = train_model_with_early_stopping_and_save(optimizer, scheduler, net, dataloader_train, dataloader_test, num_epochs=20, patience=patience, save_path=save_path)"
   ]
  },
  {
   "cell_type": "code",
   "execution_count": 15,
   "id": "dbf39bc0-4d1c-45da-a042-53e312e80855",
   "metadata": {},
   "outputs": [
    {
     "name": "stdout",
     "output_type": "stream",
     "text": [
      "Accuracy: 0.9021\n",
      "Precision: 0.9013\n",
      "Recall: 0.9021\n",
      "[[866   1  19  20   4   2  80   0   8   0]\n",
      " [  0 977   1  16   1   0   1   0   3   1]\n",
      " [ 14   0 860  13  65   0  46   0   2   0]\n",
      " [ 20   4  11 903  22   1  38   0   0   1]\n",
      " [  2   1  47  32 858   0  56   0   4   0]\n",
      " [  0   0   0   0   0 967   0  23   3   7]\n",
      " [130   2  72  30  74   2 682   0   8   0]\n",
      " [  0   0   0   0   0   6   0 961   1  32]\n",
      " [  1   2   2   1   4   1   4   2 982   1]\n",
      " [  1   0   0   0   0   3   0  31   0 965]]\n",
      "              precision    recall  f1-score   support\n",
      "\n",
      "           0       0.84      0.87      0.85      1000\n",
      "           1       0.99      0.98      0.98      1000\n",
      "           2       0.85      0.86      0.85      1000\n",
      "           3       0.89      0.90      0.90      1000\n",
      "           4       0.83      0.86      0.85      1000\n",
      "           5       0.98      0.97      0.98      1000\n",
      "           6       0.75      0.68      0.72      1000\n",
      "           7       0.94      0.96      0.95      1000\n",
      "           8       0.97      0.98      0.98      1000\n",
      "           9       0.96      0.96      0.96      1000\n",
      "\n",
      "    accuracy                           0.90     10000\n",
      "   macro avg       0.90      0.90      0.90     10000\n",
      "weighted avg       0.90      0.90      0.90     10000\n",
      "\n"
     ]
    }
   ],
   "source": [
    "# Evaluate the model\n",
    "def evaluate_model(net, dataloader_test):\n",
    "    net.eval()\n",
    "    all_labels = []\n",
    "    all_predictions = []\n",
    "    \n",
    "    with torch.no_grad():\n",
    "        for features, labels in dataloader_test:\n",
    "            outputs = net(features.to(device))\n",
    "            _, predicted = torch.max(outputs, 1)\n",
    "            all_labels.extend(labels.cpu().numpy())\n",
    "            all_predictions.extend(predicted.cpu().numpy())\n",
    "    \n",
    "    accuracy = accuracy_score(all_labels, all_predictions)\n",
    "    precision = precision_score(all_labels, all_predictions, average='macro')\n",
    "    recall = recall_score(all_labels, all_predictions, average='macro')\n",
    "    \n",
    "    print(f'Accuracy: {accuracy:.4f}')\n",
    "    print(f'Precision: {precision:.4f}')\n",
    "    print(f'Recall: {recall:.4f}')\n",
    "    \n",
    "    print(confusion_matrix(all_labels, all_predictions))\n",
    "    print(classification_report(all_labels, all_predictions))\n",
    "    \n",
    "    return all_labels, all_predictions\n",
    "\n",
    "all_labels, all_predictions = evaluate_model(net, dataloader_test)"
   ]
  },
  {
   "cell_type": "code",
   "execution_count": 23,
   "id": "024b01c1-5189-4823-8445-52d6bf1bdc50",
   "metadata": {},
   "outputs": [],
   "source": [
    "# Close TensorBoard writer\n",
    "writer.close()"
   ]
  },
  {
   "cell_type": "code",
   "execution_count": null,
   "id": "4cd229ca-c935-4545-ae8a-11600be1b15a",
   "metadata": {},
   "outputs": [],
   "source": []
  }
 ],
 "metadata": {
  "kernelspec": {
   "display_name": "Python 3 (ipykernel)",
   "language": "python",
   "name": "python3"
  },
  "language_info": {
   "codemirror_mode": {
    "name": "ipython",
    "version": 3
   },
   "file_extension": ".py",
   "mimetype": "text/x-python",
   "name": "python",
   "nbconvert_exporter": "python",
   "pygments_lexer": "ipython3",
   "version": "3.12.3"
  }
 },
 "nbformat": 4,
 "nbformat_minor": 5
}
